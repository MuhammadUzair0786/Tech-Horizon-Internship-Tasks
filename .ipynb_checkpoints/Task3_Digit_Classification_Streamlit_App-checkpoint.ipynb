{
 "cells": [
  {
   "cell_type": "markdown",
   "id": "67d96f33",
   "metadata": {},
   "source": [
    "# TechHorizon Internship - Task 3\n",
    "###  Digit Drawing Recognition Web App"
   ]
  },
  {
   "cell_type": "code",
   "execution_count": null,
   "id": "59ebbf76",
   "metadata": {},
   "outputs": [],
   "source": [
    "!pip install streamlit"
   ]
  },
  {
   "cell_type": "code",
   "execution_count": 1,
   "id": "89ddaf04",
   "metadata": {},
   "outputs": [
    {
     "ename": "ModuleNotFoundError",
     "evalue": "No module named 'streamlit'",
     "output_type": "error",
     "traceback": [
      "\u001b[1;31m---------------------------------------------------------------------------\u001b[0m",
      "\u001b[1;31mModuleNotFoundError\u001b[0m                       Traceback (most recent call last)",
      "Input \u001b[1;32mIn [1]\u001b[0m, in \u001b[0;36m<cell line: 1>\u001b[1;34m()\u001b[0m\n\u001b[1;32m----> 1\u001b[0m \u001b[38;5;28;01mimport\u001b[39;00m\u001b[38;5;250m \u001b[39m\u001b[38;5;21;01mstreamlit\u001b[39;00m\u001b[38;5;250m \u001b[39m\u001b[38;5;28;01mas\u001b[39;00m\u001b[38;5;250m \u001b[39m\u001b[38;5;21;01mst\u001b[39;00m\n\u001b[0;32m      2\u001b[0m \u001b[38;5;28;01mimport\u001b[39;00m\u001b[38;5;250m \u001b[39m\u001b[38;5;21;01mnumpy\u001b[39;00m\u001b[38;5;250m \u001b[39m\u001b[38;5;28;01mas\u001b[39;00m\u001b[38;5;250m \u001b[39m\u001b[38;5;21;01mnp\u001b[39;00m\n\u001b[0;32m      3\u001b[0m \u001b[38;5;28;01mfrom\u001b[39;00m\u001b[38;5;250m \u001b[39m\u001b[38;5;21;01mPIL\u001b[39;00m\u001b[38;5;250m \u001b[39m\u001b[38;5;28;01mimport\u001b[39;00m Image, ImageOps\n",
      "\u001b[1;31mModuleNotFoundError\u001b[0m: No module named 'streamlit'"
     ]
    }
   ],
   "source": [
    "import streamlit as st\n",
    "import numpy as np\n",
    "from PIL import Image, ImageOps\n",
    "from streamlit_drawable_canvas import st_canvas\n",
    "from tensorflow.keras.models import load_model\n",
    "import os\n",
    "\n",
    "os.environ['TF_CPP_MIN_LOG_LEVEL'] = '2'\n",
    "\n",
    "# Load model\n",
    "model = load_model('Final_Digit_Classify_model.h5')\n",
    "\n",
    "st.set_page_config(page_title=\"Digit Recognition\", layout=\"centered\")\n",
    "\n",
    "st.markdown(\n",
    "    \"\"\"\n",
    "    <h1 style='text-align: center; color: #4B8BBE;'>🖌️ Digit Drawing Recognition</h1>\n",
    "    <p style='text-align: center; color: #555;'>Draw a digit (0-9) below and click \"Predict\" when done.</p>\n",
    "    \"\"\", unsafe_allow_html=True\n",
    ")\n",
    "\n",
    "# Initialize session state\n",
    "if 'prediction_text' not in st.session_state:\n",
    "    st.session_state.prediction_text = \"\"\n",
    "\n",
    "# Canvas drawing\n",
    "col_left, col_center, col_right = st.columns([1, 3, 1])\n",
    "with col_center:\n",
    "    canvas_result = st_canvas(\n",
    "        fill_color=\"#000000\",\n",
    "        stroke_width=15,\n",
    "        stroke_color=\"#FFFFFF\",\n",
    "        background_color=\"#000000\",\n",
    "        width=280,\n",
    "        height=280,\n",
    "        drawing_mode=\"freedraw\",\n",
    "        key=\"canvas\",  # Keep key fixed\n",
    "    )\n",
    "\n",
    "# Buttons\n",
    "col1, col2, col3 = st.columns([1, 1, 1])\n",
    "with col1:\n",
    "    if st.button(\"Clear Canvas\"):\n",
    "        st.rerun()\n",
    "\n",
    "with col3:\n",
    "    if st.button(\"Try Again\"):\n",
    "        st.session_state.prediction_text = \"\"\n",
    "\n",
    "with col2:\n",
    "    if st.button(\"Predict\"):\n",
    "        if canvas_result.image_data is not None:\n",
    "            img = Image.fromarray((canvas_result.image_data).astype('uint8'), mode=\"RGBA\")\n",
    "            img = img.convert(\"L\")\n",
    "            img = ImageOps.invert(img)\n",
    "            img = img.resize((28, 28))\n",
    "            img_array = np.array(img) / 255.0\n",
    "            img_array = img_array.reshape(784,)\n",
    "\n",
    "            prediction = model.predict(img_array)\n",
    "            pred_digit = np.argmax(prediction)\n",
    "\n",
    "            st.session_state.prediction_text = f\"Predicted Digit: {pred_digit}\"\n",
    "        else:\n",
    "            st.warning(\"Please draw a digit before predicting.\")\n",
    "\n",
    "# Show result\n",
    "if st.session_state.prediction_text:\n",
    "    st.markdown(\n",
    "        f\"<h2 style='text-align: center; color: #306998;'>{st.session_state.prediction_text}</h2>\",\n",
    "        unsafe_allow_html=True\n",
    "    )\n"
   ]
  },
  {
   "cell_type": "code",
   "execution_count": null,
   "id": "4685c7d8",
   "metadata": {},
   "outputs": [],
   "source": []
  }
 ],
 "metadata": {
  "kernelspec": {
   "display_name": "Python 3 (ipykernel)",
   "language": "python",
   "name": "python3"
  },
  "language_info": {
   "codemirror_mode": {
    "name": "ipython",
    "version": 3
   },
   "file_extension": ".py",
   "mimetype": "text/x-python",
   "name": "python",
   "nbconvert_exporter": "python",
   "pygments_lexer": "ipython3",
   "version": "3.9.12"
  }
 },
 "nbformat": 4,
 "nbformat_minor": 5
}
